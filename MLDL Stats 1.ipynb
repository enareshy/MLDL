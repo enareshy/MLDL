{
 "cells": [
  {
   "cell_type": "markdown",
   "id": "167d4e73",
   "metadata": {},
   "source": [
    "## Problem Statement 1:\n",
    "## The marks awarded for an assignment set for a Year 8 class of 20 students were as follows:\n",
    "## 6 7 5 7 7 8 7 6 9 7 4 10 6 8 8 9 5 6 4 8"
   ]
  },
  {
   "cell_type": "code",
   "execution_count": 2,
   "id": "4a5abeb2",
   "metadata": {},
   "outputs": [],
   "source": [
    "import statistics as stats"
   ]
  },
  {
   "cell_type": "code",
   "execution_count": 3,
   "id": "c0b0d524",
   "metadata": {},
   "outputs": [
    {
     "data": {
      "text/plain": [
       "6.85"
      ]
     },
     "execution_count": 3,
     "metadata": {},
     "output_type": "execute_result"
    }
   ],
   "source": [
    "marks_list = [6, 7, 5, 7, 7, 8, 7, 6, 9, 7, 4, 10, 6, 8, 8, 9, 5, 6, 4, 8]\n",
    "stats.mean(marks_list)"
   ]
  },
  {
   "cell_type": "code",
   "execution_count": 4,
   "id": "5e322a62",
   "metadata": {},
   "outputs": [
    {
     "data": {
      "text/plain": [
       "7.0"
      ]
     },
     "execution_count": 4,
     "metadata": {},
     "output_type": "execute_result"
    }
   ],
   "source": [
    "stats.median(marks_list)"
   ]
  },
  {
   "cell_type": "code",
   "execution_count": 5,
   "id": "48e0b47b",
   "metadata": {},
   "outputs": [
    {
     "data": {
      "text/plain": [
       "7"
      ]
     },
     "execution_count": 5,
     "metadata": {},
     "output_type": "execute_result"
    }
   ],
   "source": [
    "stats.mode(marks_list)"
   ]
  },
  {
   "cell_type": "code",
   "execution_count": 6,
   "id": "e1e47eb1",
   "metadata": {},
   "outputs": [
    {
     "data": {
      "text/plain": [
       "1.6311119875071343"
      ]
     },
     "execution_count": 6,
     "metadata": {},
     "output_type": "execute_result"
    }
   ],
   "source": [
    "stats.stdev(marks_list)"
   ]
  },
  {
   "cell_type": "markdown",
   "id": "0ffcd033",
   "metadata": {},
   "source": [
    "## Problem Statement 2:\n",
    "## The number of calls from motorists per day for roadside service was recorded for a particular month:\n",
    "## 28, 122, 217, 130, 120, 86, 80, 90, 140, 120, 70, 40, 145, 113, 90, 68, 174, 194, 170,100, 75, 104, 97, 75,123, 100, 75, 104, 97, 75, 123, 100, 89, 120, 109"
   ]
  },
  {
   "cell_type": "code",
   "execution_count": 8,
   "id": "fb2a20c3",
   "metadata": {},
   "outputs": [],
   "source": [
    "calls = [28, 122, 217, 130, 120, 86, 80, 90, 140, 120, 70, 40, 145, 113, 90, 68, 174, 194, 170,100, 75, 104, 97, 75, 123, 100, 75, 104, 97, 75, 123, 100, 89, 120, 109]"
   ]
  },
  {
   "cell_type": "code",
   "execution_count": 10,
   "id": "ed469c10",
   "metadata": {},
   "outputs": [
    {
     "data": {
      "text/plain": [
       "107.51428571428572"
      ]
     },
     "execution_count": 10,
     "metadata": {},
     "output_type": "execute_result"
    }
   ],
   "source": [
    "stats.mean(calls)"
   ]
  },
  {
   "cell_type": "code",
   "execution_count": 11,
   "id": "eed69bb0",
   "metadata": {},
   "outputs": [
    {
     "data": {
      "text/plain": [
       "100"
      ]
     },
     "execution_count": 11,
     "metadata": {},
     "output_type": "execute_result"
    }
   ],
   "source": [
    "stats.median(calls)"
   ]
  },
  {
   "cell_type": "code",
   "execution_count": 12,
   "id": "3f98fe20",
   "metadata": {},
   "outputs": [
    {
     "data": {
      "text/plain": [
       "75"
      ]
     },
     "execution_count": 12,
     "metadata": {},
     "output_type": "execute_result"
    }
   ],
   "source": [
    "stats.mode(calls)"
   ]
  },
  {
   "cell_type": "code",
   "execution_count": 14,
   "id": "6b2e275c",
   "metadata": {},
   "outputs": [
    {
     "data": {
      "text/plain": [
       "39.33892805484412"
      ]
     },
     "execution_count": 14,
     "metadata": {},
     "output_type": "execute_result"
    }
   ],
   "source": [
    "stats.stdev(calls)"
   ]
  },
  {
   "cell_type": "markdown",
   "id": "d559bc21",
   "metadata": {},
   "source": [
    "## Problem Statement 3:\n",
    "## The number of times I go to the gym in weekdays, are given below along with its associated probability:\n",
    "##  x = 0, 1, 2, 3, 4, 5\n",
    "## f(x) = 0.09, 0.15, 0.40, 0.25, 0.10, 0.01\n",
    "## Calculate the mean no. of workouts in a week. Also evaluate the variance involved in it"
   ]
  },
  {
   "cell_type": "code",
   "execution_count": 19,
   "id": "650823b2",
   "metadata": {},
   "outputs": [],
   "source": [
    "import numpy as np\n",
    "x = np.array([0, 1, 2, 3, 4, 5])\n",
    "p = np.array([0.09, 0.15, 0.40, 0.25, 0.10, 0.01])\n",
    "workouts = x*p\n"
   ]
  },
  {
   "cell_type": "code",
   "execution_count": 68,
   "id": "d9cefe8e",
   "metadata": {},
   "outputs": [
    {
     "name": "stdout",
     "output_type": "stream",
     "text": [
      "Mean is : 2.15\n"
     ]
    }
   ],
   "source": [
    "mean = stats.fsum(workouts)\n",
    "print(\"Mean is :\", mean)"
   ]
  },
  {
   "cell_type": "code",
   "execution_count": 74,
   "id": "31fee6ca",
   "metadata": {},
   "outputs": [
    {
     "name": "stdout",
     "output_type": "stream",
     "text": [
      "Variance  is : 0.12341666666666667\n"
     ]
    }
   ],
   "source": [
    "variance = stats.variance(workouts)\n",
    "print(\"Variance  is :\", variance)"
   ]
  },
  {
   "cell_type": "markdown",
   "id": "eef1ca91",
   "metadata": {},
   "source": [
    "## Problem Statement 4:\n",
    "## Let the continuous random variable D denote the diameter of the hole drilled in an aluminum sheet. The target diameter to be achieved is 12.5mm. Randomdisturbances in the process often result in inaccuracy.Historical data shows that the distribution of D can be modelled by the PDF (d) =20e−20(d−12.5), d ≥ 12.5. If a part with diameter > 12.6 mm needs to be scrapped,what is the proportion of those parts? What is the CDF when the diameter is of 11mm? What is your conclusion regarding the proportion of scraps?"
   ]
  },
  {
   "cell_type": "code",
   "execution_count": 64,
   "id": "06c47634",
   "metadata": {},
   "outputs": [
    {
     "name": "stdout",
     "output_type": "stream",
     "text": [
      "Parts need to scrapped when d >12.6mm is :0.13533528323661398, 1.4196407407874011e-09\n",
      "CDF when d= 11mm is:nan,nan\n"
     ]
    }
   ],
   "source": [
    "from scipy import integrate\n",
    "\n",
    "import warnings\n",
    "\n",
    "#suppress warnings\n",
    "warnings.filterwarnings('ignore')\n",
    "PDF=lambda d:20*(np.exp((-20*(d-12.5))))\n",
    "x = 12.6\n",
    "P_x=integrate.quad(PDF,x,np.inf)\n",
    "y = 11\n",
    "CDF=integrate.quad(PDF,-np.inf,y)\n",
    "print(f\"Parts need to scrapped when d >12.6mm is :{P_x[0]}, {P_x[1]}\")\n",
    "\n",
    "print(f\"CDF when d= 11mm is:{CDF[0]},{CDF[1]}\")"
   ]
  },
  {
   "cell_type": "code",
   "execution_count": null,
   "id": "e4362d8b",
   "metadata": {},
   "outputs": [],
   "source": [
    "If a part with diameter < 12.5, then the part should be reworked.\n",
    "\n",
    "PDF is not defined for d=11"
   ]
  },
  {
   "cell_type": "markdown",
   "id": "5c588062",
   "metadata": {},
   "source": [
    "## Problem Statement 5:\n",
    "\n",
    "## A company manufactures LED bulbs with a faulty rate of 30%. If I randomly select 6 chosen LEDs, what is the probability of having 2 faulty LEDs in my sample?Calculate the average value of this process. Also evaluate the standard deviationassociated with it."
   ]
  },
  {
   "cell_type": "code",
   "execution_count": null,
   "id": "b646146a",
   "metadata": {},
   "outputs": [],
   "source": [
    "p = 30% = 0.3\n",
    "q = 1-p = 0.7\n",
    "n = 6\n",
    "k = 2"
   ]
  },
  {
   "cell_type": "code",
   "execution_count": 28,
   "id": "aba7bd83",
   "metadata": {},
   "outputs": [
    {
     "name": "stdout",
     "output_type": "stream",
     "text": [
      "Probability is :  0.32413499999999995\n"
     ]
    }
   ],
   "source": [
    "from scipy.stats import binom\n",
    "probability = binom.pmf(k=2, n=6, p=0.3)\n",
    "print(\"Probability is : \", probability)"
   ]
  },
  {
   "cell_type": "code",
   "execution_count": 31,
   "id": "ca40a08f",
   "metadata": {},
   "outputs": [
    {
     "name": "stdout",
     "output_type": "stream",
     "text": [
      "Mean is : 1.7999999999999998\n",
      "Standarad deviation is : 1.1224972160321822\n"
     ]
    }
   ],
   "source": [
    "import math\n",
    "mean, var = binom.stats(n=6, p=0.3)\n",
    "print(\"Mean is :\", mean)\n",
    "print(\"Standarad deviation is :\", math.sqrt(var))"
   ]
  },
  {
   "cell_type": "code",
   "execution_count": 62,
   "id": "1419d079",
   "metadata": {},
   "outputs": [
    {
     "data": {
      "image/png": "[encoded data removed]",
      "text/plain": [
       "<Figure size 432x288 with 1 Axes>"
      ]
     },
     "metadata": {
      "needs_background": "light"
     },
     "output_type": "display_data"
    }
   ],
   "source": [
    "import seaborn as sns\n",
    "import numpy as np\n",
    "%matplotlib inline\n",
    "\n",
    "sns.distplot(np.random.binomial(6, 0.3, 1000), hist=True, kde=False)\n",
    "\n",
    "plt.show()"
   ]
  },
  {
   "cell_type": "markdown",
   "id": "d234e4b4",
   "metadata": {},
   "source": [
    "## Gaurav and Barakha are both preparing for entrance exams. Gaurav attempts to solve 8 questions per day with a correction rate of 75%, while Barakha averagesaround 12 questions per day with a correction rate of 45%. What is the probabilitythat each of them will solve 5 questions correctly? What happens in cases of 4 and 6correct solutions? What do you infer from it? What are the two main governingfactors affecting their ability to solve questions correctly? Give a pictorialrepresentation of the same to validate your answer."
   ]
  },
  {
   "cell_type": "code",
   "execution_count": 48,
   "id": "3d85e916",
   "metadata": {},
   "outputs": [],
   "source": [
    "n1 = 8\n",
    "p1 = 0.75\n",
    "n2 = 12\n",
    "p2 = 0.45\n",
    "k = 5"
   ]
  },
  {
   "cell_type": "code",
   "execution_count": 36,
   "id": "aad5321b",
   "metadata": {},
   "outputs": [
    {
     "name": "stdout",
     "output_type": "stream",
     "text": [
      "Probability of Gaurav solving 5 correct is :  0.20764160156250022\n"
     ]
    }
   ],
   "source": [
    "from scipy.stats import binom\n",
    "prob_gaurav = binom.pmf(k=5, n=8, p=0.75)\n",
    "print(\"Probability of Gaurav solving 5 correct is : \", prob_gaurav)"
   ]
  },
  {
   "cell_type": "code",
   "execution_count": 35,
   "id": "2c843aa8",
   "metadata": {},
   "outputs": [
    {
     "name": "stdout",
     "output_type": "stream",
     "text": [
      "Probability of Barakha solving 5 correct is :  0.22249823843265792\n"
     ]
    }
   ],
   "source": [
    "prob_barakv = binom.pmf(k=5, n=12, p=0.45)\n",
    "print(\"Probability of Barakha solving 5 correct is : \", prob_barakv)"
   ]
  },
  {
   "cell_type": "code",
   "execution_count": 37,
   "id": "ced2d6cc",
   "metadata": {},
   "outputs": [
    {
     "name": "stdout",
     "output_type": "stream",
     "text": [
      "Probability of Gaurav solving 4 correct is :  0.20764160156250022\n"
     ]
    }
   ],
   "source": [
    "prob_gaurav_4 = binom.pmf(k=4, n=8, p=0.75)\n",
    "print(\"Probability of Gaurav solving 4 correct is : \", prob_gaurav)"
   ]
  },
  {
   "cell_type": "code",
   "execution_count": 38,
   "id": "52fc665f",
   "metadata": {},
   "outputs": [
    {
     "name": "stdout",
     "output_type": "stream",
     "text": [
      "Probability of Barakha solving 6 correct is :  0.22249823843265792\n"
     ]
    }
   ],
   "source": [
    "prob_barakv_6 = binom.pmf(k=6, n=12, p=0.45)\n",
    "print(\"Probability of Barakha solving 6 correct is : \", prob_barakv)"
   ]
  },
  {
   "cell_type": "code",
   "execution_count": null,
   "id": "b9408a91",
   "metadata": {},
   "outputs": [],
   "source": [
    "Answer: The probability of solving any number of correct solutions is dependent on the each person correct rate.. \n",
    "    so in case of 5, 4, 6 corect solution the probability of Gaurav and Barakha does notchnage with the K\n",
    "    The govering factors are probability and sample size."
   ]
  },
  {
   "cell_type": "code",
   "execution_count": 45,
   "id": "11ef3dd5",
   "metadata": {},
   "outputs": [
    {
     "data": {
      "image/png": "[encoded data removed]",
      "text/plain": [
       "<Figure size 432x288 with 1 Axes>"
      ]
     },
     "metadata": {
      "needs_background": "light"
     },
     "output_type": "display_data"
    }
   ],
   "source": [
    "import matplotlib.pyplot as plt\n",
    "fig, ax = plt.subplots(1, 1)\n",
    "rv = binom(n1,p1)\n",
    "ax.vlines(x, 0, rv.pmf(x), colors='k', linestyles='-', lw=1, label='frozen pmf')\n",
    "ax.legend(loc='best', frameon=False)\n",
    "plt.show()"
   ]
  },
  {
   "cell_type": "code",
   "execution_count": 50,
   "id": "f428b56e",
   "metadata": {},
   "outputs": [
    {
     "data": {
      "image/png": "[encoded data removed]",
      "text/plain": [
       "<Figure size 432x288 with 1 Axes>"
      ]
     },
     "metadata": {
      "needs_background": "light"
     },
     "output_type": "display_data"
    }
   ],
   "source": [
    "import matplotlib.pyplot as plt\n",
    "fig, ax = plt.subplots(1, 1)\n",
    "rv = binom(n2,p2)\n",
    "ax.vlines(x, 0, rv.pmf(x), colors='k', linestyles='-', lw=1, label='frozen pmf')\n",
    "ax.legend(loc='best', frameon=False)\n",
    "plt.show()"
   ]
  },
  {
   "cell_type": "markdown",
   "id": "34eaed53",
   "metadata": {},
   "source": [
    "## Customers arrive at a rate of 72 per hour to my shop. What is the probability of k customers arriving in 4 minutes? a) 5 customers, b) not more than 3 customers, c) more than 3 customers. Give a pictorial representation of the same to validate your answer."
   ]
  },
  {
   "cell_type": "markdown",
   "id": "34afe33e",
   "metadata": {},
   "source": [
    "Customer per minute = 72/60 = 1.2\n",
    "Customers arriving in 4 minutes = 1.2 X4 = 4.8"
   ]
  },
  {
   "cell_type": "code",
   "execution_count": 52,
   "id": "1aea249a",
   "metadata": {},
   "outputs": [
    {
     "name": "stderr",
     "output_type": "stream",
     "text": [
      "C:\\Users\\enare\\anaconda3\\lib\\site-packages\\seaborn\\distributions.py:2557: FutureWarning: `distplot` is a deprecated function and will be removed in a future version. Please adapt your code to use either `displot` (a figure-level function with similar flexibility) or `histplot` (an axes-level function for histograms).\n",
      "  warnings.warn(msg, FutureWarning)\n"
     ]
    },
    {
     "data": {
      "text/plain": [
       "<AxesSubplot:ylabel='Density'>"
      ]
     },
     "execution_count": 52,
     "metadata": {},
     "output_type": "execute_result"
    },
    {
     "data": {
      "image/png": "[encoded data removed]",
      "text/plain": [
       "<Figure size 432x288 with 1 Axes>"
      ]
     },
     "metadata": {
      "needs_background": "light"
     },
     "output_type": "display_data"
    }
   ],
   "source": [
    "from scipy.stats import poisson\n",
    "import matplotlib.pyplot as plt\n",
    "import seaborn as sns\n",
    "poisson_data=poisson.rvs(mu=4.8,size=1000)\n",
    "sns.distplot(poisson_data,hist=True,kde=True,color=\"red\")"
   ]
  },
  {
   "cell_type": "code",
   "execution_count": 55,
   "id": "0fda612f",
   "metadata": {},
   "outputs": [
    {
     "name": "stdout",
     "output_type": "stream",
     "text": [
      "Probability of 5 customers is :  0.17474768364388296\n"
     ]
    }
   ],
   "source": [
    "from scipy.stats import poisson\n",
    "probab1=poisson.pmf(k=5,mu=4.8)\n",
    "print(\"Probability of 5 customers is : \", probab1)"
   ]
  },
  {
   "cell_type": "code",
   "execution_count": 56,
   "id": "ab2c1af6",
   "metadata": {},
   "outputs": [
    {
     "name": "stdout",
     "output_type": "stream",
     "text": [
      "Probability of not more than 3 customers is :  0.14253921888902693\n"
     ]
    }
   ],
   "source": [
    "probab2=sum(poisson.pmf(k=[0,1,2],mu=4.8))\n",
    "print(\"Probability of not more than 3 customers is : \", probab2)"
   ]
  },
  {
   "cell_type": "code",
   "execution_count": 58,
   "id": "17fa5971",
   "metadata": {},
   "outputs": [
    {
     "name": "stdout",
     "output_type": "stream",
     "text": [
      "Probability of more than 3 customers is :  0.8574607811109731\n"
     ]
    }
   ],
   "source": [
    "prob3 = 1-probab2\n",
    "print(\"Probability of more than 3 customers is : \", prob3)"
   ]
  },
  {
   "cell_type": "markdown",
   "id": "d1066362",
   "metadata": {},
   "source": [
    "## I work as a data analyst in Aeon Learning Pvt. Ltd. After analyzing data, I make reports, where I have the efficiency of entering 77 words per minute with 6 errors per hour. What is the probability that I will commit 2 errors in a 455-word financial report? What happens when the no. of words increases/decreases (in case of 1000 words, 255 words)?\n",
    "## How is the λ affected?\n",
    "## How does it influence the PMF?\n",
    "## Give a pictorial representation of the same to validate your answer."
   ]
  },
  {
   "cell_type": "code",
   "execution_count": 75,
   "id": "64418ce8",
   "metadata": {},
   "outputs": [
    {
     "name": "stdout",
     "output_type": "stream",
     "text": [
      "The pobability of commiting 2 errors in 455 words financial report is : 0.09669027375144444\n",
      "The pobability of commiting 2 errors in 1000 words financial report is : 0.23012815007300153\n",
      "The pobability of commiting 2 errors in 255 words financial report is : 0.039377135392854104\n"
     ]
    },
    {
     "data": {
      "image/png": "[encoded data removed]",
      "text/plain": [
       "<Figure size 1296x576 with 2 Axes>"
      ]
     },
     "metadata": {
      "needs_background": "light"
     },
     "output_type": "display_data"
    }
   ],
   "source": [
    "error_mu=0.1/77\n",
    "def getMu(n):\n",
    "    return n * error_mu\n",
    "print(\"The pobability of commiting 2 errors in 455 words financial report is :\",poisson.pmf(2,mu=getMu(455)))\n",
    "print(f\"The pobability of commiting 2 errors in 1000 words financial report is :\",poisson.pmf(2,mu=getMu(1000)))\n",
    "print(f\"The pobability of commiting 2 errors in 255 words financial report is :\",poisson.pmf(2,mu=getMu(255)))\n",
    "x=np.arange(0,10)\n",
    "fig = plt.figure(figsize=(18, 8))\n",
    "x = np.arange(0,10)\n",
    "mu_pdf_1 = poisson.pmf(x,mu=getMu(455))\n",
    "mu_pdf_2 = poisson.pmf(x,mu=getMu(1000))\n",
    "mu_pdf_3 = poisson.pmf(x,mu=getMu(255))\n",
    "plt.subplot(1,2,1)\n",
    "plt.plot(x, mu_pdf_1, 'y-', label='λ: 0.59')\n",
    "plt.plot(x, mu_pdf_2, 'b-', label='λ: 1.299')\n",
    "plt.plot(x, mu_pdf_3, 'g-', label='λ: 0.33')\n",
    "plt.legend()\n",
    "plt.title('PDF for different lambda')\n",
    "plt.subplot(1, 2, 2)\n",
    "x = np.arange(0,10)\n",
    "mu_cdf_1 = poisson.cdf(x,mu=getMu(455))\n",
    "mu_cdf_2 = poisson.cdf(x,mu=getMu(1000))\n",
    "mu_cdf_3 = poisson.cdf(x,mu=getMu(255))\n",
    "plt.plot(x, mu_cdf_1, 'y-',label='λ: 0.59')\n",
    "plt.plot(x, mu_cdf_2, 'b-', label='λ: 1.299')\n",
    "plt.plot(x, mu_cdf_3, 'g-', label='λ: 0.33')\n",
    "plt.legend()\n",
    "plt.title('CDF for different lambda')\n",
    "plt.show()"
   ]
  },
  {
   "cell_type": "code",
   "execution_count": 76,
   "id": "9695feaa",
   "metadata": {},
   "outputs": [
    {
     "data": {
      "text/plain": [
       "<matplotlib.collections.LineCollection at 0x2b8f78933d0>"
      ]
     },
     "execution_count": 76,
     "metadata": {},
     "output_type": "execute_result"
    },
    {
     "data": {
      "image/png": "[encoded data removed]",
      "text/plain": [
       "<Figure size 1080x360 with 1 Axes>"
      ]
     },
     "metadata": {
      "needs_background": "light"
     },
     "output_type": "display_data"
    }
   ],
   "source": [
    "x=range(100,1000,50)\n",
    "mu=[i*error_mu for i in x]\n",
    "fig,ax = plt.subplots(1,1,figsize=(15,5))\n",
    "ax.plot(x,poisson.pmf(2,mu), 'b', ms=8, label='poisson pmf')\n",
    "ax.vlines(x,0, poisson.pmf(2,mu), colors='c', lw=5, alpha=0.5)"
   ]
  },
  {
   "cell_type": "markdown",
   "id": "ef2cebac",
   "metadata": {},
   "source": [
    "As number of words increase probability of getting errors increases"
   ]
  },
  {
   "cell_type": "code",
   "execution_count": 77,
   "id": "a9711d01",
   "metadata": {},
   "outputs": [
    {
     "data": {
      "text/plain": [
       "<matplotlib.collections.LineCollection at 0x2b8f75b41f0>"
      ]
     },
     "execution_count": 77,
     "metadata": {},
     "output_type": "execute_result"
    },
    {
     "data": {
      "image/png": "[encoded data removed]",
      "text/plain": [
       "<Figure size 1080x360 with 1 Axes>"
      ]
     },
     "metadata": {
      "needs_background": "light"
     },
     "output_type": "display_data"
    }
   ],
   "source": [
    "fig,ax = plt.subplots(1,1,figsize=(15,5))\n",
    "ax.plot(x,mu, 'b', ms=8, label='poisson pmf')\n",
    "ax.vlines(x,0,mu, colors='g', lw=5, alpha=0.5)"
   ]
  },
  {
   "cell_type": "markdown",
   "id": "87f6093b",
   "metadata": {},
   "source": [
    "As number of words increase the mean value increasing"
   ]
  },
  {
   "cell_type": "markdown",
   "id": "fd019ab8",
   "metadata": {},
   "source": [
    "Problem Statement 9:\n",
    "\n",
    "Let the continuous random variable D denote the diameter of the hole drilled in an aluminum sheet. The target diameter to be achieved is 12.5mm. Random disturbances in the process often result in inaccuracy. Historical data shows that the distribution of D can be modelled by the PDF, f(d) = 20e−20(d−12.5), d ≥ 12.5. If a part with diameter > 12.6 mm needs to be scrapped, what is the proportion of those parts? What is the CDF when the diameter is of 11 mm? What is the conclusion of this experiment?"
   ]
  },
  {
   "cell_type": "code",
   "execution_count": 79,
   "id": "8fd92e5f",
   "metadata": {},
   "outputs": [
    {
     "name": "stdout",
     "output_type": "stream",
     "text": [
      "Parts need to scrapped when d >12.6mm is :0.13533528323661398, 1.4196407407874011e-09\n",
      "CDF when d= 11mm is:nan,nan\n"
     ]
    }
   ],
   "source": [
    "from scipy import integrate\n",
    "\n",
    "import warnings\n",
    "\n",
    "#suppress warnings\n",
    "warnings.filterwarnings('ignore')\n",
    "PDF=lambda d:20*(np.exp((-20*(d-12.5))))\n",
    "x = 12.6\n",
    "P_x=integrate.quad(PDF,x,np.inf)\n",
    "y = 11\n",
    "CDF=integrate.quad(PDF,-np.inf,y)\n",
    "print(f\"Parts need to scrapped when d >12.6mm is :{P_x[0]}, {P_x[1]}\")\n",
    "\n",
    "print(f\"CDF when d= 11mm is:{CDF[0]},{CDF[1]}\")"
   ]
  },
  {
   "cell_type": "markdown",
   "id": "c291d16e",
   "metadata": {},
   "source": [
    " If a part with diameter < 12.5, then the part should be reworked. PDF is not defined for d=11"
   ]
  },
  {
   "cell_type": "markdown",
   "id": "14bb4e34",
   "metadata": {},
   "source": [
    "Problem Statement 10:\n",
    "\n",
    "Please compute the following:\n",
    "\n",
    "a) P(Z > 1.26), . P(Z < −0.86), P(Z > −1.37), P(−1.25 < Z < 0.37), . P(Z ≤ −4.6)\n",
    "\n",
    "b) Find the value z such that P(Z > z) = 0.05\n",
    "\n",
    "c) Find the value of z such that P(−z < Z < z) = 0.99"
   ]
  },
  {
   "cell_type": "code",
   "execution_count": 80,
   "id": "ca6083b4",
   "metadata": {},
   "outputs": [
    {
     "name": "stdout",
     "output_type": "stream",
     "text": [
      "P(Z>1.26)=0.103835\n",
      "P(Z<-0.86)=0.194895\n",
      "P(Z>-1.37) =0.914657\n",
      "P(−1.25 < Z < 0.37) =0.538659 \n",
      "P(Z ≤ −4.6) =0.000002\n"
     ]
    }
   ],
   "source": [
    "from scipy.stats import norm\n",
    "def P(z,b=-np.inf) :\n",
    "    return integrate.quad(norm.pdf,b,z)[0]\n",
    "x= 1-P(1.26)\n",
    "y=P(-0.86)\n",
    "z_=(1-P(-1.37))\n",
    "w=P(0.37,b=-1.25)\n",
    "v=P(-4.6)\n",
    "print('P(Z>1.26)=%.6f'%x)\n",
    "print('P(Z<-0.86)=%.6f'%y)\n",
    "print('P(Z>-1.37) =%.6f'%z_)\n",
    "print('P(−1.25 < Z < 0.37) =%.6f '%w)\n",
    "print('P(Z ≤ −4.6) =%.6f'%v)"
   ]
  },
  {
   "cell_type": "code",
   "execution_count": 81,
   "id": "7f2b5d65",
   "metadata": {},
   "outputs": [
    {
     "name": "stdout",
     "output_type": "stream",
     "text": [
      "P(Z>z)=0.05 is 1.64\n",
      "𝑃(−𝑧 < 𝑍 < 𝑧) = 0.99 is 2.58\n"
     ]
    }
   ],
   "source": [
    "print('P(Z>z)=0.05 is %.2f'%(-1*norm.ppf(0.05)))\n",
    "print('𝑃(−𝑧 < 𝑍 < 𝑧) = 0.99 is %.2f'%(abs(norm.ppf(0.005))))"
   ]
  },
  {
   "cell_type": "markdown",
   "id": "e91d4b8f",
   "metadata": {},
   "source": [
    "Problem Statement 11:\n",
    "\n",
    "The current flow in a copper wire follow a normal distribution with a mean of 10 mA and a variance of 4 (mA)2. What is the probability that a current measurement will exceed 13 mA? What is the probability that a current measurement is between 9 and 11mA? Determine the current measurement which has a probability of 0.98."
   ]
  },
  {
   "cell_type": "code",
   "execution_count": 83,
   "id": "3e1efc03",
   "metadata": {},
   "outputs": [
    {
     "name": "stdout",
     "output_type": "stream",
     "text": [
      "2.0\n",
      "Probability that a current measurement will exceed 13 mA= 0.06680720126885797\n",
      "Z-score for 9 mA current is= -0.5\n",
      "Z-score for 11 mA current is= 0.5\n",
      "P(Z < -0.5) =0.309\n",
      "P(Z < 0.5) =0.691\n",
      "[P(-0.5< Z < 0.5)]:Probability that a current measurement is between 9 mA and 11 mA ==0.383\n",
      "The current measurement which has a probability of 0.98 is 14.1𝑚𝐴\n"
     ]
    }
   ],
   "source": [
    "mean = 10\n",
    "std = np.sqrt(4)\n",
    "print(std)\n",
    "def I(z, b=-np.inf):\n",
    "    z = (z-mean)/std\n",
    "    return integrate.quad(norm.pdf,b,z)[0]\n",
    "print(\"Probability that a current measurement will exceed 13 mA=\",1-I(13))\n",
    "\n",
    "z9_score= (9-10)/2\n",
    "print('Z-score for 9 mA current is=',z9_score)\n",
    "\n",
    "z11_score= (11-10)/2\n",
    "print('Z-score for 11 mA current is=',z11_score)\n",
    "def P2(z,b=-np.inf) :\n",
    "    return integrate.quad(norm.pdf,b,z)[0]\n",
    "p_z9=P2(z9_score)\n",
    "\n",
    "p_z11=P2(z11_score)\n",
    "\n",
    "print('P(Z < -0.5) =%.3f'%p_z9)\n",
    "print('P(Z < 0.5) =%.3f'%p_z11)\n",
    "print('[P(-0.5< Z < 0.5)]:Probability that a current measurement is between 9 mA and 11 mA ==%.3f'%(p_z11-p_z9))\n",
    "\n",
    "#Determine the current measurement which has a probability of 0.98.\n",
    "#P(Z < z) = 0.98\n",
    "\n",
    "#Using tables, z comes around 2.05\n",
    "\n",
    "#P(Z < z) = 0.98\n",
    "z=2.05\n",
    "#z=(x-𝜇)/𝜎\n",
    "\n",
    "#z =(𝑥−𝜇)/𝜎 ⟹ 𝑥 = 𝑧∗𝜎+𝜇\n",
    "\n",
    "x= z*2+10\n",
    "print(f\"The current measurement which has a probability of 0.98 is {x}𝑚𝐴\")"
   ]
  },
  {
   "cell_type": "markdown",
   "id": "4f2d5276",
   "metadata": {},
   "source": [
    "Problem Statement 12:\n",
    "\n",
    "The shaft in a piston has its diameter normally distributed with a mean of 0.2508 inch and a standard deviation of 0.0005 inch. The specifications of the shaft are 0.2500 ∓ 0.0015 inch. What proportion of shafts are in sync with the specifications? If the process is centered so that the mean is equal to the target value of 0.2500, what proportion of shafts conform to the new specifications? What is your conclusion from this experiment?"
   ]
  },
  {
   "cell_type": "code",
   "execution_count": 84,
   "id": "cf613f9f",
   "metadata": {},
   "outputs": [
    {
     "name": "stdout",
     "output_type": "stream",
     "text": [
      "Proportion of shafts with dia in range of 0.2485<d<0.2515 when mean diameter: -4.6000000000000485\n",
      "Proportion of shafts with dia in range of 0.2485<d<0.2515 when mean diameter: 1.3999999999999568\n",
      "P(z<1.4)=0.92\n",
      "P(z<-4.6)=0.00\n",
      "P(-4.6< Z < 1.4)=0.92\n"
     ]
    }
   ],
   "source": [
    "mean=0.2508\n",
    "std=0.0005\n",
    "#specified dia in the range of 0.2485<d<0.2515\n",
    "#case-1 if mean_dia=0.2508\n",
    "\n",
    "a=float(0.2485-0.2508)/float(std)\n",
    "b=float(0.2515-0.2508)/float(std)\n",
    "print(\"Proportion of shafts with dia in range of 0.2485<d<0.2515 when mean diameter:\",a)\n",
    "print(\"Proportion of shafts with dia in range of 0.2485<d<0.2515 when mean diameter:\",b)\n",
    "\n",
    "from scipy.stats import norm\n",
    "def P1(z,b=-np.inf) :\n",
    "    return integrate.quad(norm.pdf,b,z)[0]\n",
    "z1=P1(1.4)\n",
    "z2=P1(-4.6)\n",
    "print('P(z<1.4)=%.2f'%z1)\n",
    "print('P(z<-4.6)=%.2f'%z2)\n",
    "\n",
    "print('P(-4.6< Z < 1.4)=%.2f'%(z1-z2))"
   ]
  },
  {
   "cell_type": "markdown",
   "id": "080787c3",
   "metadata": {},
   "source": [
    "Conclusion :\n",
    "\n",
    "Mean diameter is 0.2508 inch\n",
    "\n",
    "Standard deviation is 0.0005 inch\n",
    "\n",
    "Z-score for (0.2500 - 0.0015) 0.2485 is (0.2485−0.25080)/.0005=−4.6\n",
    "\n",
    "Z-score for (0.2500 + 0.0015) 0.2515 is (0.2515−0.25080)/.0005=1.4\n",
    "\n",
    "P(-4.6< Z < 1.4)=𝑃(𝑍<1.4)−𝑃(𝑍<−4.6)=0.92."
   ]
  },
  {
   "cell_type": "code",
   "execution_count": null,
   "id": "1b353d6d",
   "metadata": {},
   "outputs": [],
   "source": []
  }
 ],
 "metadata": {
  "kernelspec": {
   "display_name": "Python 3",
   "language": "python",
   "name": "python3"
  },
  "language_info": {
   "codemirror_mode": {
    "name": "ipython",
    "version": 3
   },
   "file_extension": ".py",
   "mimetype": "text/x-python",
   "name": "python",
   "nbconvert_exporter": "python",
   "pygments_lexer": "ipython3",
   "version": "3.8.8"
  }
 },
 "nbformat": 4,
 "nbformat_minor": 5
}
