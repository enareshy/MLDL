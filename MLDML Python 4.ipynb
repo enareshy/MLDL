{
 "cells": [
  {
   "cell_type": "markdown",
   "id": "5c36c8fd",
   "metadata": {},
   "source": [
    "## Write a Python Program(with class concepts) to find the area of the triangle using the below formula.\n",
    "area = (s*(s-a)*(s-b)*(s-c)) ** 0.5\n",
    "Function to take the length of the sides of triangle from user should be defined in the parent class and function to calculate the area should be defined in subclass."
   ]
  },
  {
   "cell_type": "code",
   "execution_count": 7,
   "id": "1c9f6b92",
   "metadata": {},
   "outputs": [
    {
     "name": "stdout",
     "output_type": "stream",
     "text": [
      "Please enter the length of side a of triangle 4\n",
      "Please enter the length of side b of triangle 5\n",
      "Please enter the length of side c of triangle 3\n",
      "Area of Traingle is 6.0\n"
     ]
    }
   ],
   "source": [
    "class area:\n",
    "    def __init__(self, a, b, c):\n",
    "        self.a = a\n",
    "        self.b = b\n",
    "        self.c = c\n",
    "        \n",
    "a = float(input(\"Please enter the length of side a of triangle \"))\n",
    "b = float(input(\"Please enter the length of side b of triangle \"))\n",
    "c = float(input(\"Please enter the length of side c of triangle \"))\n",
    "\n",
    "class triangle(area):\n",
    "    def calc_area(self):\n",
    "        s = (a+b+c)/2\n",
    "        return (s*(s-a)*(s-b)*(s-c))**0.5\n",
    "\n",
    "t_area = triangle(a,b,c)\n",
    "print(\"Area of Traingle is {}\".format(t_area.calc_area()))\n",
    "    "
   ]
  },
  {
   "cell_type": "markdown",
   "id": "2ac18d99",
   "metadata": {},
   "source": [
    "## 1.2 Write a function filter_long_words() that takes a list of words and an integer n and returns the list of words that are longer than n."
   ]
  },
  {
   "cell_type": "code",
   "execution_count": 15,
   "id": "a3df3374",
   "metadata": {},
   "outputs": [
    {
     "name": "stdout",
     "output_type": "stream",
     "text": [
      "Please type in a list of words Please type in a list of words\n",
      "PLease input an integer 3\n",
      "The words greater than the number 3 are ['Please', 'type', 'list', 'words'] \n"
     ]
    }
   ],
   "source": [
    "def filter_long_words(input_str, input_num):\n",
    "    str_list = input_str.split()\n",
    "    words = []\n",
    "    for i in range(len(str_list)):\n",
    "        if (len(str_list[i])) > input_num:\n",
    "            words.append(str_list[i])\n",
    "    return words\n",
    "    \n",
    "\n",
    "input_str = input(\"Please type in a list of words \")\n",
    "input_num = int(input(\"PLease input an integer \"))\n",
    "words_num = filter_long_words(input_str, input_num)\n",
    "print(\"The words greater than the number {} are {} \".format(input_num, words_num))\n",
    "    \n",
    "    "
   ]
  },
  {
   "cell_type": "markdown",
   "id": "45100eda",
   "metadata": {},
   "source": [
    "## 2.1 Write a Python program using function concept that maps list of words into a list of integers representing the lengths of the corresponding words."
   ]
  },
  {
   "cell_type": "code",
   "execution_count": 20,
   "id": "b552cc28",
   "metadata": {},
   "outputs": [
    {
     "name": "stdout",
     "output_type": "stream",
     "text": [
      "[2, 3, 4]\n"
     ]
    }
   ],
   "source": [
    "def words_to_ints(str_list):\n",
    "    ints_list= []\n",
    "    for i in range(len(str_list)):\n",
    "        ints_list.append(len(str_list[i]))\n",
    "    return ints_list\n",
    "\n",
    "words_list_num = words_to_ints(['ab','cde','erty'])\n",
    "print(words_list_num)\n",
    "    "
   ]
  },
  {
   "cell_type": "markdown",
   "id": "c455a093",
   "metadata": {},
   "source": [
    "## 2.2 Write a Python function which takes a character (i.e. a string of length 1) and returns True if it is a vowel, False otherwise."
   ]
  },
  {
   "cell_type": "code",
   "execution_count": 29,
   "id": "94c7187d",
   "metadata": {},
   "outputs": [
    {
     "name": "stdout",
     "output_type": "stream",
     "text": [
      "Please input a single character :e\n"
     ]
    },
    {
     "data": {
      "text/plain": [
       "True"
      ]
     },
     "execution_count": 29,
     "metadata": {},
     "output_type": "execute_result"
    }
   ],
   "source": [
    "def check_vowel(ch):\n",
    "    vowels = ['a', 'e', 'i', 'o', 'u']\n",
    "    if (len(ch)) > 1:\n",
    "        print(\"Please input Single character\")\n",
    "        pass\n",
    "    elif ch in vowels:\n",
    "        return True\n",
    "    else:\n",
    "        return False\n",
    "\n",
    "input_ch = input(\"Please input a single character :\")\n",
    "check_vowel(input_ch)"
   ]
  },
  {
   "cell_type": "code",
   "execution_count": null,
   "id": "6fbb692a",
   "metadata": {},
   "outputs": [],
   "source": []
  }
 ],
 "metadata": {
  "kernelspec": {
   "display_name": "Python 3",
   "language": "python",
   "name": "python3"
  },
  "language_info": {
   "codemirror_mode": {
    "name": "ipython",
    "version": 3
   },
   "file_extension": ".py",
   "mimetype": "text/x-python",
   "name": "python",
   "nbconvert_exporter": "python",
   "pygments_lexer": "ipython3",
   "version": "3.8.8"
  }
 },
 "nbformat": 4,
 "nbformat_minor": 5
}
