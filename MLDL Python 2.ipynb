{
 "cells": [
  {
   "cell_type": "code",
   "execution_count": 50,
   "id": "90aea4ce",
   "metadata": {},
   "outputs": [
    {
     "name": "stdout",
     "output_type": "stream",
     "text": [
      "*\n",
      "**\n",
      "***\n",
      "****\n",
      "*****\n",
      "****\n",
      "***\n",
      "**\n",
      "*\n"
     ]
    }
   ],
   "source": [
    "i = 0\n",
    "for i in range(5):\n",
    "    for j in range(i+1):\n",
    "        print(\"*\", end = \"\")\n",
    "    print(\"\")\n",
    "\n",
    "while i > 0:\n",
    "    for k in range(i):\n",
    "        print(\"*\", end = \"\")\n",
    "    i = i-1\n",
    "    print(\"\")\n",
    "    \n"
   ]
  },
  {
   "cell_type": "code",
   "execution_count": 52,
   "id": "2627d011",
   "metadata": {},
   "outputs": [
    {
     "name": "stdout",
     "output_type": "stream",
     "text": [
      "Please inout ineuron ineuron\n",
      "The Revers of word:  norueni\n"
     ]
    }
   ],
   "source": [
    "word = input(\"Please inout ineuron \")\n",
    "print(\"The Reverse of word: \",word[::-1])"
   ]
  },
  {
   "cell_type": "code",
   "execution_count": null,
   "id": "43251430",
   "metadata": {},
   "outputs": [],
   "source": []
  }
 ],
 "metadata": {
  "kernelspec": {
   "display_name": "Python 3 (ipykernel)",
   "language": "python",
   "name": "python3"
  },
  "language_info": {
   "codemirror_mode": {
    "name": "ipython",
    "version": 3
   },
   "file_extension": ".py",
   "mimetype": "text/x-python",
   "name": "python",
   "nbconvert_exporter": "python",
   "pygments_lexer": "ipython3",
   "version": "3.9.7"
  }
 },
 "nbformat": 4,
 "nbformat_minor": 5
}
