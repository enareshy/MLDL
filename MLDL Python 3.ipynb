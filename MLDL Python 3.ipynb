{
 "cells": [
  {
   "cell_type": "markdown",
   "id": "e35f5f73",
   "metadata": {},
   "source": [
    "## Write a Python Program to implement your own myreduce() function which works exactly like Python's built-in function reduce()"
   ]
  },
  {
   "cell_type": "code",
   "execution_count": 2,
   "id": "6ab991a0",
   "metadata": {},
   "outputs": [],
   "source": [
    "def my_add(a,b):\n",
    "    return a+b"
   ]
  },
  {
   "cell_type": "code",
   "execution_count": 3,
   "id": "b736d8ab",
   "metadata": {},
   "outputs": [
    {
     "data": {
      "text/plain": [
       "10"
      ]
     },
     "execution_count": 3,
     "metadata": {},
     "output_type": "execute_result"
    }
   ],
   "source": [
    "from functools import reduce\n",
    "numbers = [0,1,2,3,4]\n",
    "reduce(my_add, numbers)\n",
    "\n"
   ]
  },
  {
   "cell_type": "code",
   "execution_count": 4,
   "id": "a5f597fd",
   "metadata": {},
   "outputs": [],
   "source": [
    "def myreduce(function, iterable):\n",
    "    it = iter(iterable)\n",
    "    val = 0\n",
    "    for i in it:\n",
    "        val = function(val, i)\n",
    "    return val"
   ]
  },
  {
   "cell_type": "code",
   "execution_count": 5,
   "id": "0debc96f",
   "metadata": {},
   "outputs": [
    {
     "data": {
      "text/plain": [
       "10"
      ]
     },
     "execution_count": 5,
     "metadata": {},
     "output_type": "execute_result"
    }
   ],
   "source": [
    "numbers = [0,1,2,3,4]\n",
    "myreduce(my_add, numbers)"
   ]
  },
  {
   "cell_type": "markdown",
   "id": "8106f4e8",
   "metadata": {},
   "source": [
    "## Write a Python program to implement your own myfilter() function"
   ]
  },
  {
   "cell_type": "code",
   "execution_count": 7,
   "id": "679c17c5",
   "metadata": {},
   "outputs": [],
   "source": [
    "def even(num):\n",
    "    if num%2 == 0:\n",
    "        return True"
   ]
  },
  {
   "cell_type": "code",
   "execution_count": 8,
   "id": "d09c1c00",
   "metadata": {},
   "outputs": [],
   "source": [
    "def myfilter(function, iterable):\n",
    "    it = iter(iterable)\n",
    "    even_list = []\n",
    "    for i in it:\n",
    "        if function(i):\n",
    "            even_list.append(i)\n",
    "    return even_list\n",
    "        "
   ]
  },
  {
   "cell_type": "code",
   "execution_count": 10,
   "id": "dea89ce6",
   "metadata": {},
   "outputs": [
    {
     "data": {
      "text/plain": [
       "[0, 2, 4, 6, 8, 10]"
      ]
     },
     "execution_count": 10,
     "metadata": {},
     "output_type": "execute_result"
    }
   ],
   "source": [
    "numbers = [0,1,2,3,4, 5, 6, 7, 8, 9, 10]\n",
    "myfilter(even, numbers)"
   ]
  },
  {
   "cell_type": "markdown",
   "id": "33db7914",
   "metadata": {},
   "source": [
    "## Write List comprehensions to produce the following Lists"
   ]
  },
  {
   "cell_type": "markdown",
   "id": "8c60755a",
   "metadata": {},
   "source": [
    "# Output : ['x', 'xx', 'xxx', 'xxxx', 'y', 'yy', 'yyy', 'yyyy', 'z', 'zz', 'zzz', 'zzzz']"
   ]
  },
  {
   "cell_type": "code",
   "execution_count": 14,
   "id": "5a4a3eb3",
   "metadata": {},
   "outputs": [
    {
     "name": "stdout",
     "output_type": "stream",
     "text": [
      "['x', 'xx', 'xxx', 'xxxx', 'y', 'yy', 'yyy', 'yyyy', 'z', 'zz', 'zzz', 'zzzz']\n"
     ]
    }
   ],
   "source": [
    "input_list=list('xyz')\n",
    "output_list=[x*n for x in input_list for n in range(1,5) ]\n",
    "print(output_list)"
   ]
  },
  {
   "cell_type": "markdown",
   "id": "e4dd4065",
   "metadata": {},
   "source": [
    "# Output : ['x', 'y', 'z', 'xx', 'yy', 'zz', 'xxx', 'yyy', 'zzz', 'xxxx', 'yyyy', 'zzzz']"
   ]
  },
  {
   "cell_type": "code",
   "execution_count": 15,
   "id": "9dd45da0",
   "metadata": {},
   "outputs": [
    {
     "name": "stdout",
     "output_type": "stream",
     "text": [
      "['x', 'y', 'z', 'xx', 'yy', 'zz', 'xxx', 'yyy', 'zzz', 'xxxx', 'yyyy', 'zzzz']\n"
     ]
    }
   ],
   "source": [
    "output_list=[x*n for n in range(1,5) for x in input_list ]\n",
    "print(output_list)"
   ]
  },
  {
   "cell_type": "markdown",
   "id": "620b088e",
   "metadata": {},
   "source": [
    "## OUTPUT : [[2], [3], [4], [3], [4], [5], [4], [5], [6]]"
   ]
  },
  {
   "cell_type": "code",
   "execution_count": 18,
   "id": "4413b7e4",
   "metadata": {},
   "outputs": [
    {
     "name": "stdout",
     "output_type": "stream",
     "text": [
      "[[2], [3], [4], [3], [4], [5], [4], [5], [6]]\n"
     ]
    }
   ],
   "source": [
    "input_nums=[2,3,4]\n",
    "output_list=[[x+n] for x in input_nums for n in range(0,3)]\n",
    "print(output_list)"
   ]
  },
  {
   "cell_type": "markdown",
   "id": "78fd011d",
   "metadata": {},
   "source": [
    "## Output:  [[2, 3, 4, 5], [3, 4, 5, 6], [4, 5, 6, 7], [5, 6, 7, 8]]"
   ]
  },
  {
   "cell_type": "code",
   "execution_count": 19,
   "id": "af8099ba",
   "metadata": {},
   "outputs": [
    {
     "name": "stdout",
     "output_type": "stream",
     "text": [
      "[[2, 3, 4, 5], [3, 4, 5, 6], [4, 5, 6, 7], [5, 6, 7, 8]]\n"
     ]
    }
   ],
   "source": [
    "input_nums=[2,3,4,5]\n",
    "output_list=[[x+n for n in range(0,4)] for x in input_nums ]\n",
    "print(output_list)"
   ]
  },
  {
   "cell_type": "markdown",
   "id": "dac0f402",
   "metadata": {},
   "source": [
    "## output [(1, 1), (2, 1), (3, 1), (1, 2), (2, 2), (3, 2), (1, 3), (2, 3), (3, 3)]"
   ]
  },
  {
   "cell_type": "code",
   "execution_count": 20,
   "id": "889050a5",
   "metadata": {},
   "outputs": [
    {
     "name": "stdout",
     "output_type": "stream",
     "text": [
      "[(1, 1), (2, 1), (3, 1), (1, 2), (2, 2), (3, 2), (1, 3), (2, 3), (3, 3)]\n"
     ]
    }
   ],
   "source": [
    "input_nums=[1,2,3]\n",
    "output_list= [(b,a) for a in input_nums for b in input_nums]\n",
    "print(output_list)"
   ]
  },
  {
   "cell_type": "code",
   "execution_count": null,
   "id": "bf2b0c92",
   "metadata": {},
   "outputs": [],
   "source": []
  }
 ],
 "metadata": {
  "kernelspec": {
   "display_name": "Python 3 (ipykernel)",
   "language": "python",
   "name": "python3"
  },
  "language_info": {
   "codemirror_mode": {
    "name": "ipython",
    "version": 3
   },
   "file_extension": ".py",
   "mimetype": "text/x-python",
   "name": "python",
   "nbconvert_exporter": "python",
   "pygments_lexer": "ipython3",
   "version": "3.9.7"
  }
 },
 "nbformat": 4,
 "nbformat_minor": 5
}
