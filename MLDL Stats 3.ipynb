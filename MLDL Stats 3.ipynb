{
 "cells": [
  {
   "cell_type": "markdown",
   "id": "c78711a6",
   "metadata": {},
   "source": [
    "# Problem Statement 1:\n",
    "# Blood glucose levels for obese patients have a mean of 100 with a standard deviation of 15. A researcher thinks that a diet high in raw cornstarch will have a positive effect on blood glucose levels. A sample of 36 patients who have tried the raw cornstarch diet have a mean glucose level of 108. Test the hypothesis that the raw cornstarch had an effect or not."
   ]
  },
  {
   "cell_type": "markdown",
   "id": "22a2e808",
   "metadata": {},
   "source": [
    "HMu = 100\n",
    "stdev = 15\n",
    "n = 26\n",
    "x = 108\n",
    "\n",
    "Standard Ddeviation is Given and sample size is greater than 30. So we use Normal Distribution.\n",
    "Assumption : 95% Confidence limit\n",
    "Z0.025 = 1.96\n",
    "\n",
    "Test Statistic = (x-mu)/stddeve/sqrt(n)\n",
    "= 108-100/15/6\n",
    "= 8*6/15\n",
    "= 3.2\n",
    "\n",
    "Since calculated statistic 3.2 greater than critical value 1.96, we reject teh Null hypothesis\n",
    "Conclusion: Raw cornstarch had an effect on blood glucose level\n"
   ]
  },
  {
   "cell_type": "markdown",
   "id": "7d0fe5a8",
   "metadata": {},
   "source": [
    "## Problem Statement 2:\n",
    "## In one state, 52% of the voters are Republicans, and 48% are Democrats. In a second state, 47% of the voters are Republicans, and 53% are Democrats. Suppose a simple random sample of 100 voters are surveyed from each state.\n",
    "## What is the probability that the survey will show a greater percentage of Republicanvoters in the second state than in the first state?"
   ]
  },
  {
   "cell_type": "markdown",
   "id": "d7bd0ffd",
   "metadata": {},
   "source": [
    "Republican in State 1 = p1 = 0.52\n",
    "Republican in State 2 = p2 = 0.47\n",
    "Sample size n1 = n2 = 100\n",
    "Difference in proportion for two states = p = p1-p2\n",
    "p = 0.52 - 0.47 = 0.05\n",
    "\n",
    "Stdev = Sqrt(0.52*(1-0.52) +0.47*(1-0.47))/100\n",
    "= Sqrt(0.004997)\n",
    "Stdev = 0.070619\n",
    "\n",
    "Difference must be less than 0 for greater percentage of republicam voters in secodn state.\n",
    "So value = 0\n",
    "\n",
    "Zscore = (value - mean) / SD\n",
    "= 0-0.05/0.0706\n",
    "z = - 0.708\n",
    "\n",
    "They value of -0.708 from Standard Normal tabel is 0.239\n",
    "\n",
    "So the probability that teh survey will show greater percentage of Republicamn voters in state 2 is 0.239"
   ]
  },
  {
   "cell_type": "markdown",
   "id": "747daee6",
   "metadata": {},
   "source": [
    "## Problem Statement 3:\n",
    "## You take the SAT and score 1100. The mean score for the SAT is 1026 and the standard deviation is 209. How well did you score on the test compared to the average test taker?"
   ]
  },
  {
   "cell_type": "code",
   "execution_count": null,
   "id": "a95048e0",
   "metadata": {},
   "outputs": [],
   "source": [
    "X = 1100\n",
    "mean mu = 1026\n",
    "stddev = 209\n",
    "\n",
    "Z = X-mu/stdev\n",
    "Z = 1100-1026/209\n",
    "= 0.354\n",
    "\n",
    "Score is 0.354 stanradrd deviations above the mean\n",
    "\n",
    "Z score value from Z table for 0.354 is 0.1368\n",
    "0.1368 + 0.5 = 0.6368 = 63.68%\n",
    "The z-table shown has scores for the RIGHT of the mean. Therefore, we have to add .500\n",
    "\n",
    "63.68% test takers scored below me.. "
   ]
  }
 ],
 "metadata": {
  "kernelspec": {
   "display_name": "Python 3",
   "language": "python",
   "name": "python3"
  },
  "language_info": {
   "codemirror_mode": {
    "name": "ipython",
    "version": 3
   },
   "file_extension": ".py",
   "mimetype": "text/x-python",
   "name": "python",
   "nbconvert_exporter": "python",
   "pygments_lexer": "ipython3",
   "version": "3.8.8"
  }
 },
 "nbformat": 4,
 "nbformat_minor": 5
}
