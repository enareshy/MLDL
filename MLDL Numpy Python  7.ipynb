{
 "cells": [
  {
   "cell_type": "markdown",
   "id": "0a385d33",
   "metadata": {},
   "source": [
    "## Write a function so that the columns of the output matrix are powers of the input vector."
   ]
  },
  {
   "cell_type": "code",
   "execution_count": 9,
   "id": "f3e037b3",
   "metadata": {},
   "outputs": [],
   "source": [
    "def vanderMatrix(x, N):\n",
    "    y = np.column_stack([x**(N-1-i) for i in range(N)])\n",
    "    return y"
   ]
  },
  {
   "cell_type": "code",
   "execution_count": 12,
   "id": "adbdc6a6",
   "metadata": {},
   "outputs": [
    {
     "data": {
      "text/plain": [
       "array([[ 1,  1,  1,  1],\n",
       "       [ 8,  4,  2,  1],\n",
       "       [27,  9,  3,  1],\n",
       "       [64, 16,  4,  1]], dtype=int32)"
      ]
     },
     "execution_count": 12,
     "metadata": {},
     "output_type": "execute_result"
    }
   ],
   "source": [
    "x = np.array([1, 2, 3, 4])\n",
    "n = 4\n",
    "vanderMatrix(x, n)"
   ]
  },
  {
   "cell_type": "code",
   "execution_count": 13,
   "id": "aad55b09",
   "metadata": {},
   "outputs": [
    {
     "data": {
      "text/plain": [
       "array([[ 1,  1,  1,  1],\n",
       "       [ 1,  2,  4,  8],\n",
       "       [ 1,  3,  9, 27],\n",
       "       [ 1,  4, 16, 64]])"
      ]
     },
     "execution_count": 13,
     "metadata": {},
     "output_type": "execute_result"
    }
   ],
   "source": [
    "# Or simply use\n",
    "np.vander(x, increasing=True)"
   ]
  },
  {
   "cell_type": "markdown",
   "id": "e852a3f8",
   "metadata": {},
   "source": [
    "## Write a function to find moving average in an array over a window:"
   ]
  },
  {
   "cell_type": "code",
   "execution_count": 32,
   "id": "696d14a8",
   "metadata": {},
   "outputs": [],
   "source": [
    "def mov_avg(a, n):\n",
    "    csum = np.cumsum(a, dtype=float)\n",
    "    csum[n:] = csum[n:] - csum[:-n]\n",
    "    return csum[n-1:]/n"
   ]
  },
  {
   "cell_type": "code",
   "execution_count": 33,
   "id": "2095ae6e",
   "metadata": {},
   "outputs": [
    {
     "name": "stdout",
     "output_type": "stream",
     "text": [
      "[  5.     4.67   5.67   6.67   9.67  28.67  49.33  72.67  84.    93.33\n",
      " 116.33]\n"
     ]
    }
   ],
   "source": [
    "a=[3, 5, 7, 2, 8, 10, 11, 65, 72, 81, 99, 100, 150]\n",
    "y = np.array(mov_avg(a,3)).round(2)\n",
    "print(y)"
   ]
  },
  {
   "cell_type": "code",
   "execution_count": null,
   "id": "f0a418bc",
   "metadata": {},
   "outputs": [],
   "source": []
  }
 ],
 "metadata": {
  "kernelspec": {
   "display_name": "Python 3 (ipykernel)",
   "language": "python",
   "name": "python3"
  },
  "language_info": {
   "codemirror_mode": {
    "name": "ipython",
    "version": 3
   },
   "file_extension": ".py",
   "mimetype": "text/x-python",
   "name": "python",
   "nbconvert_exporter": "python",
   "pygments_lexer": "ipython3",
   "version": "3.9.7"
  }
 },
 "nbformat": 4,
 "nbformat_minor": 5
}
